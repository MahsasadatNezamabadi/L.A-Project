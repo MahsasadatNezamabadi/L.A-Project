{
 "cells": [
  {
   "cell_type": "code",
   "execution_count": 1,
   "id": "0b516d0b",
   "metadata": {},
   "outputs": [],
   "source": [
    "import pandas as pd\n",
    "\n",
    "from sklearn.model_selection import train_test_split\n",
    "from sklearn.neighbors import KNeighborsClassifier"
   ]
  },
  {
   "cell_type": "code",
   "execution_count": 2,
   "id": "bd3ac8e6",
   "metadata": {},
   "outputs": [],
   "source": [
    "def custom_round(x, base=0.05):\n",
    "    return base*round(x/base)\n",
    "\n",
    "\n",
    "def get_qualSchool(df, col=\"qual_school\"):\n",
    "    maxGrad=data.groupby(\"qual_school\").max().reset_index()\n",
    "    maxGrad=maxGrad[[\"qual_school\",\"avg_grad_round\"]]\n",
    "    max0=maxGrad[\"avg_grad_round\"][0]\n",
    "    max1=maxGrad[\"avg_grad_round\"][1]\n",
    "    max2=maxGrad[\"avg_grad_round\"][2]\n",
    "    max3=maxGrad[\"avg_grad_round\"][3]\n",
    "    df.loc[df[\"avg_grad_round\"]<=max0,\"qual_school\"]=0\n",
    "    df.loc[((df[\"avg_grad_round\"]>max0) &(df[\"avg_grad_round\"]<=max1)) ,\"qual_school\"]=1\n",
    "    df.loc[((df[\"avg_grad_round\"]>max1) &(df[\"avg_grad_round\"]<=max2)) ,\"qual_school\"]=2\n",
    "    df.loc[((df[\"avg_grad_round\"]>max2) &(df[\"avg_grad_round\"]<=max3)) ,\"qual_school\"]=3\n",
    "    df.loc[df[\"avg_grad_round\"]>max3,\"qual_school\"]=4\n",
    "    return df\n",
    "    "
   ]
  },
  {
   "cell_type": "code",
   "execution_count": 3,
   "id": "cf327644",
   "metadata": {},
   "outputs": [],
   "source": [
    "dataPrep=pd.read_csv(\"datasets/dataForML.csv\")\n",
    "data=pd.read_csv(\"datasets/dataForMLScatter.csv\")\n",
    "\n",
    "dataPrep[\"total_grads_of_cohort\"]=dataPrep[\"total_grads_of_cohort\"]/100\n",
    "df_mean=dataPrep.groupby(\"dbn\").mean()\n",
    "df_mean=df_mean.reset_index()\n",
    "df_mean[\"avg_grad_round\"]=df_mean[\"total_grads_of_cohort\"].apply(lambda x: custom_round(x))\n",
    "df_mean=df_mean[[\"dbn\",\"avg_grad_round\"]]\n",
    "\n",
    "stdGrad=dataPrep.groupby(\"dbn\").std()\n",
    "stdGrad=stdGrad.reset_index()\n",
    "stdGrad=stdGrad[[\"dbn\",\"total_grads_of_cohort\"]]\n",
    "stdGrad=stdGrad.rename(columns={\"total_grads_of_cohort\":\"std_Grads\"})\n",
    "stdGrad[\"std_Grads_round\"]=stdGrad[\"std_Grads\"].apply(lambda x: custom_round(x))\n",
    "data=data.merge(stdGrad, on=\"dbn\",how=\"left\")\n",
    "data=data.merge(df_mean, on=\"dbn\",how=\"left\")\n",
    "data=data.dropna(subset=[\"trees\",\"crashes\",\"pc\",\"shootings\",\"arrests\",\"programs\",\"bins\",\"avg_perc Grads\",\"std_Grads\"])\n",
    "data=data.sort_values(by=[\"avg_grad_round\"])\n",
    "data=data.reset_index()\n",
    "data[\"qual_school\"]=0\n",
    "class_width=data.shape[0]//5\n",
    "class_width\n",
    "data.loc[class_width:2*class_width,\"qual_school\"]=1\n",
    "data.loc[class_width*2:3*class_width,\"qual_school\"]=2\n",
    "data.loc[class_width*3:4*class_width,\"qual_school\"]=3\n",
    "data.loc[class_width*4:,\"qual_school\"]=4\n",
    "\n"
   ]
  },
  {
   "cell_type": "code",
   "execution_count": 4,
   "id": "dcd289a0",
   "metadata": {},
   "outputs": [],
   "source": [
    "\n",
    "\n",
    "X=data[[\"trees\",\"crashes\",\"pc\",\"shootings\",\"arrests\",\"programs\",\"bins\"]]\n",
    "\n",
    "\n",
    "y=data[ \"qual_school\"]\n",
    "\n",
    "X_train,X_test,y_train,y_test=train_test_split(X,y,test_size=0.1, stratify=y, random_state=42)\n"
   ]
  },
  {
   "cell_type": "code",
   "execution_count": null,
   "id": "de978200",
   "metadata": {},
   "outputs": [],
   "source": [
    "from sklearn.metrics import f1_score\n",
    "kneighbours_test=[]\n",
    "score_l_test=[]\n",
    "for i in range(1,20):\n",
    "    neigh=KNeighborsClassifier(n_neighbors=i)\n",
    "    neigh.fit(X_train,y_train)\n",
    "    pred=neigh.predict(X_test)\n",
    "    score=f1_score(y_test,pred, average=\"macro\")\n",
    "    kneighbours_test.append(i)\n",
    "    score_l_test.append(score)\n"
   ]
  },
  {
   "cell_type": "code",
   "execution_count": null,
   "id": "1b638459",
   "metadata": {},
   "outputs": [],
   "source": [
    "list(zip(score_l_test,kneighbours_test))"
   ]
  },
  {
   "cell_type": "code",
   "execution_count": 5,
   "id": "20712c00",
   "metadata": {},
   "outputs": [],
   "source": [
    "import pickle\n",
    "final_model=KNeighborsClassifier(n_neighbors=9)\n",
    "final_model.fit(X_train,y_train)\n",
    "\n",
    "pickle.dump(final_model,open(\"final_model.sav\",\"wb\"))"
   ]
  },
  {
   "cell_type": "code",
   "execution_count": null,
   "id": "39de4be6",
   "metadata": {},
   "outputs": [],
   "source": [
    "plt.scatter(kneighbours_test,score_l_test)"
   ]
  },
  {
   "cell_type": "code",
   "execution_count": 7,
   "id": "cc05ec4d",
   "metadata": {},
   "outputs": [],
   "source": [
    "model=pickle.load(open(\"final_model.sav\",\"rb\"))\n",
    "\n",
    "def get_pred(features):\n",
    "    pred=model.predict(features)\n",
    "\n",
    "\n",
    "    return pred"
   ]
  },
  {
   "cell_type": "code",
   "execution_count": 23,
   "id": "834ef188",
   "metadata": {},
   "outputs": [
    {
     "data": {
      "text/plain": [
       "array([2])"
      ]
     },
     "execution_count": 23,
     "metadata": {},
     "output_type": "execute_result"
    }
   ],
   "source": [
    "get_pred(x)"
   ]
  },
  {
   "cell_type": "code",
   "execution_count": 21,
   "id": "11fe6c67",
   "metadata": {},
   "outputs": [],
   "source": [
    "x=X_train[:1]"
   ]
  },
  {
   "cell_type": "code",
   "execution_count": 22,
   "id": "0ea8ed68",
   "metadata": {},
   "outputs": [
    {
     "data": {
      "text/html": [
       "<div>\n",
       "<style scoped>\n",
       "    .dataframe tbody tr th:only-of-type {\n",
       "        vertical-align: middle;\n",
       "    }\n",
       "\n",
       "    .dataframe tbody tr th {\n",
       "        vertical-align: top;\n",
       "    }\n",
       "\n",
       "    .dataframe thead th {\n",
       "        text-align: right;\n",
       "    }\n",
       "</style>\n",
       "<table border=\"1\" class=\"dataframe\">\n",
       "  <thead>\n",
       "    <tr style=\"text-align: right;\">\n",
       "      <th></th>\n",
       "      <th>trees</th>\n",
       "      <th>crashes</th>\n",
       "      <th>pc</th>\n",
       "      <th>shootings</th>\n",
       "      <th>arrests</th>\n",
       "      <th>programs</th>\n",
       "      <th>bins</th>\n",
       "    </tr>\n",
       "  </thead>\n",
       "  <tbody>\n",
       "    <tr>\n",
       "      <th>231</th>\n",
       "      <td>-0.145996</td>\n",
       "      <td>-1.103344</td>\n",
       "      <td>0.688072</td>\n",
       "      <td>-0.045086</td>\n",
       "      <td>-0.84546</td>\n",
       "      <td>-0.063023</td>\n",
       "      <td>-0.539355</td>\n",
       "    </tr>\n",
       "  </tbody>\n",
       "</table>\n",
       "</div>"
      ],
      "text/plain": [
       "        trees   crashes        pc  shootings  arrests  programs      bins\n",
       "231 -0.145996 -1.103344  0.688072  -0.045086 -0.84546 -0.063023 -0.539355"
      ]
     },
     "execution_count": 22,
     "metadata": {},
     "output_type": "execute_result"
    }
   ],
   "source": [
    "x"
   ]
  },
  {
   "cell_type": "code",
   "execution_count": null,
   "id": "a5b77f35",
   "metadata": {},
   "outputs": [],
   "source": []
  }
 ],
 "metadata": {
  "kernelspec": {
   "display_name": "Python 3 (ipykernel)",
   "language": "python",
   "name": "python3"
  },
  "language_info": {
   "codemirror_mode": {
    "name": "ipython",
    "version": 3
   },
   "file_extension": ".py",
   "mimetype": "text/x-python",
   "name": "python",
   "nbconvert_exporter": "python",
   "pygments_lexer": "ipython3",
   "version": "3.8.8"
  }
 },
 "nbformat": 4,
 "nbformat_minor": 5
}
