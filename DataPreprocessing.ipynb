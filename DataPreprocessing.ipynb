{
 "cells": [
  {
   "cell_type": "code",
   "execution_count": 70,
   "id": "a9671bc7-66b8-4fce-925d-231d998843a9",
   "metadata": {},
   "outputs": [],
   "source": [
    "import pandas as pd\n",
    "from sodapy import Socrata\n",
    "from datetime import datetime\n",
    "import pickle\n",
    "from geopy import distance\n",
    "import numpy as np\n",
    "import time"
   ]
  },
  {
   "cell_type": "code",
   "execution_count": 71,
   "id": "68597456-889e-4b6c-aaaa-ab0ebfcf4051",
   "metadata": {},
   "outputs": [
    {
     "data": {
      "text/plain": [
       "{'grad': {'key': 'nb39-jx2v', 'last_updated': 0, 'data': ''},\n",
       " 'trees': {'key': 'uvpi-gqnh', 'last_updated': 0, 'data': ''},\n",
       " 'crashes': {'key': 'h9gi-nx95', 'last_updated': 0, 'data': ''},\n",
       " 'pc': {'key': 'cuzb-dmcd', 'last_updated': 0, 'data': ''},\n",
       " 'shootings': {'key': '833y-fsy8', 'last_updated': 0, 'data': ''},\n",
       " 'arrests': {'key': '8h9b-rp9u', 'last_updated': 0, 'data': ''},\n",
       " 'programs': {'key': 'mbd7-jfnc', 'last_updated': 0, 'data': ''},\n",
       " 'bins': {'key': 'sxx4-xhzg', 'last_updated': 0, 'data': ''}}"
      ]
     },
     "execution_count": 71,
     "metadata": {},
     "output_type": "execute_result"
    }
   ],
   "source": [
    "start = time.time()\n",
    "\n",
    "dict_dfs={\"grad\":[\"nb39-jx2v\"], \"trees\":[\"uvpi-gqnh\"],\"crashes\":[\"h9gi-nx95\"],\"pc\":[\"cuzb-dmcd\"],\n",
    "          \"shootings\":[\"833y-fsy8\"], \"arrests\":[\"8h9b-rp9u\"],\"programs\":[\"mbd7-jfnc\"],\"bins\":[\"sxx4-xhzg\"]}\n",
    "for key in dict_dfs:\n",
    "    x=dict_dfs[key][0]\n",
    "    dict_dfs[key]={\"key\":x,\"last_updated\":0,\"data\":\"\"}\n",
    "    \n",
    "dict_dfs"
   ]
  },
  {
   "cell_type": "code",
   "execution_count": 72,
   "id": "f413f74e",
   "metadata": {
    "tags": []
   },
   "outputs": [
    {
     "name": "stdout",
     "output_type": "stream",
     "text": [
      "grad done\n",
      "trees done\n",
      "crashes done\n",
      "pc done\n",
      "shootings done\n",
      "arrests done\n",
      "programs done\n",
      "bins done\n"
     ]
    }
   ],
   "source": [
    "def get_data(data_dict):\n",
    "    data_url = \"data.cityofnewyork.us\"\n",
    "    token = \"HnDwBjZUCabVQojpbl6aIDrDI\"\n",
    "    client = Socrata(data_url,token, timeout=120)\n",
    "    for key in data_dict:\n",
    "        data_set=data_dict[key][\"key\"]\n",
    "        meta = client.get_metadata(data_set)\n",
    "        if meta[\"viewLastModified\"]>data_dict[key][\"last_updated\"]:\n",
    "            data_dict[key][\"last_updated\"]=meta[\"viewLastModified\"]\n",
    "            data_dict[key][\"data\"]=client.get(data_set, limit=10000)\n",
    "            lastUpdated=True\n",
    "        print(key + \" done\")      \n",
    "    \n",
    "     \n",
    "\n",
    "get_data(dict_dfs)\n"
   ]
  },
  {
   "cell_type": "code",
   "execution_count": 73,
   "id": "590e18f9",
   "metadata": {
    "scrolled": true,
    "tags": []
   },
   "outputs": [
    {
     "name": "stdout",
     "output_type": "stream",
     "text": [
      "grad done\n",
      "trees done\n",
      "crashes done\n",
      "pc done\n",
      "shootings done\n",
      "arrests done\n",
      "programs done\n",
      "bins done\n"
     ]
    }
   ],
   "source": [
    "def get_dataframes(data_dict):\n",
    "    for key in data_dict:\n",
    "        if key in [\"addresses\",\"scatter\"]:\n",
    "            continue\n",
    "        df=pd.DataFrame(data_dict[key][\"data\"])\n",
    "        columns=df.columns\n",
    "        if \"latitude\" in df.columns:\n",
    "            df[\"location\"]=list(zip(df[\"latitude\"].to_list(),df[\"longitude\"].to_list()))\n",
    "            df=df[[\"location\"]]\n",
    "            df=df[df.location.notna()]\n",
    "        if \"lat\" in df.columns:\n",
    "            df[\"location\"]=list(zip(df[\"lat\"].to_list(),df[\"lon\"].to_list()))\n",
    "            df=df[[\"location\"]]\n",
    "            df=df[df.location.notna()]\n",
    "        data_dict[key][\"df\"]=df\n",
    "        print(key + \" done\")\n",
    "    df=pd.read_csv(\"data/2016_DOE_High_School_Directory-2.csv\")\n",
    "    df[\"location\"]=list(zip(df[\"Latitude\"].to_list(),df[\"Longitude\"].to_list()))\n",
    "    df=df[[\"dbn\",\"school_name\",\"borough\",\"location\"]]\n",
    "    data_dict[\"grad\"][\"df\"]=data_dict[\"grad\"][\"df\"].merge(df,on=\"dbn\",how=\"left\")\n",
    "    data_dict[\"scatter\"]={\"df\":df}\n",
    "get_dataframes(dict_dfs)"
   ]
  },
  {
   "cell_type": "code",
   "execution_count": 81,
   "id": "c065c2e4",
   "metadata": {},
   "outputs": [],
   "source": [
    "def prep_grad(data_dict):\n",
    "    df_school=data_dict[\"grad\"][\"df\"]\n",
    "    df_school=df_school[df_school.demographic_category==\"All Students\"]\n",
    "    data_dict[\"grad\"][\"df\"]=df_school\n",
    "    \n",
    "prep_grad(dict_dfs)\n"
   ]
  },
  {
   "cell_type": "code",
   "execution_count": 74,
   "id": "b1af2c16-0751-4fe0-95aa-1eb9fe999e28",
   "metadata": {
    "tags": []
   },
   "outputs": [
    {
     "name": "stdout",
     "output_type": "stream",
     "text": [
      "\n",
      "\n",
      "\n",
      " grad\n",
      "\n",
      "\n",
      "\n",
      " trees\n",
      "\n",
      "\n",
      "\n",
      " crashes\n",
      "\n",
      "\n",
      "\n",
      " pc\n",
      "\n",
      "\n",
      "\n",
      " shootings\n",
      "\n",
      "\n",
      "\n",
      " arrests\n",
      "\n",
      "\n",
      "\n",
      " programs\n",
      "\n",
      "\n",
      "\n",
      " bins\n",
      "/n/n 29.736872819570372\n"
     ]
    }
   ],
   "source": [
    "def get_distance(loc1,loc2):\n",
    "    try:\n",
    "        return distance.distance(loc1,loc2).meters\n",
    "    except:\n",
    "        return np.nan\n",
    "    \n",
    "\n",
    "def get_numFeat(dict_dfs):\n",
    "    dbns=dict_dfs[\"grad\"][\"df\"][\"dbn\"].to_list()\n",
    "    df_school=dict_dfs[\"grad\"][\"df\"]\n",
    "    df_school=df_school[df_school.location.notnull()]\n",
    "    dbns=set(df_school[\"dbn\"].to_list())\n",
    "    dict_dbn={}\n",
    "    dict_keys={}\n",
    "    dict_feat={}\n",
    "    dict_dfs[\"scatter\"][\"feat\"]=\"\"\n",
    "    \n",
    "    for key in dict_dfs:\n",
    "        if key != \"scatter\":\n",
    "            dict_dbn={}\n",
    "            print( \"\\n\\n\\n\",key)\n",
    "            if key != \"grad\":\n",
    "                df=dict_dfs[key][\"df\"]\n",
    "                df=df[df.location.notnull()]\n",
    "                for dbn in dbns:\n",
    "                    locSchool=df_school.loc[df_school[\"dbn\"]==dbn,\"location\"].to_list()[0]\n",
    "                    df[\"distance\"]=df[\"location\"].apply(lambda x: get_distance(locSchool,x))\n",
    "                    numFeat=(df[\"distance\"].values<500).sum()\n",
    "                    dict_dbn[dbn]=numFeat\n",
    "                dict_keys[key]=dict_dbn\n",
    "    #dict_feat[\"feat\"]=dict_keys\n",
    "    dict_dfs[\"scatter\"][\"feat\"]=dict_keys\n",
    "                   \n",
    "                    \n",
    "            \n",
    " \n",
    "    \n",
    "\n",
    "\n",
    "\n",
    "get_numFeat(dict_dfs)\n",
    "\n",
    "end=time.time()\n",
    "\n",
    "print(\"/n/n\",(end-start)/59.992)"
   ]
  },
  {
   "cell_type": "code",
   "execution_count": 82,
   "id": "38e3ad42-f789-4ea5-81d0-a1bf276fd534",
   "metadata": {},
   "outputs": [],
   "source": [
    "def get_scatterDf(data_dict):\n",
    "    dfScatter=data_dict[\"scatter\"][\"df\"]\n",
    "    dfSchool=data_dict[\"grad\"][\"df\"][[\"dbn\", \"demographic_category\", \"cohort_year\", \"total_grads_of_cohort\"]]\n",
    "    \n",
    "    dfFeat=pd.DataFrame.from_dict(data_dict[\"scatter\"][\"feat\"])\n",
    "    dfFeat.reset_index(inplace=True)\n",
    "    dfFeat=dfFeat.rename(columns={\"index\":\"dbn\"})\n",
    "    dfScatter=dfScatter.merge(dfFeat,on=\"dbn\",how=\"left\")\n",
    "    dfScatter=dfScatter.merge(dfSchool,on=\"dbn\",how=\"left\")\n",
    "    return dfScatter\n",
    "\n",
    "\n",
    "\n",
    "x=get_scatterDf(dict_dfs)\n",
    "\n",
    "x.to_csv(\"data/dataForScatter.csv\")"
   ]
  },
  {
   "cell_type": "code",
   "execution_count": 83,
   "id": "38c22832-99ec-48d4-8b72-62bee370e24b",
   "metadata": {},
   "outputs": [
    {
     "data": {
      "text/plain": [
       "dbn                        0\n",
       "school_name                0\n",
       "borough                    0\n",
       "location                   0\n",
       "trees                    237\n",
       "crashes                  237\n",
       "pc                       237\n",
       "shootings                237\n",
       "arrests                  237\n",
       "programs                 237\n",
       "bins                     237\n",
       "demographic_category     239\n",
       "cohort_year              239\n",
       "total_grads_of_cohort    673\n",
       "dtype: int64"
      ]
     },
     "execution_count": 83,
     "metadata": {},
     "output_type": "execute_result"
    }
   ],
   "source": [
    "x.isnull().sum()"
   ]
  },
  {
   "cell_type": "code",
   "execution_count": null,
   "id": "879b7eee-1785-40a7-bfdd-be21767b9e55",
   "metadata": {},
   "outputs": [],
   "source": []
  }
 ],
 "metadata": {
  "kernelspec": {
   "display_name": "Python 3 (ipykernel)",
   "language": "python",
   "name": "python3"
  },
  "language_info": {
   "codemirror_mode": {
    "name": "ipython",
    "version": 3
   },
   "file_extension": ".py",
   "mimetype": "text/x-python",
   "name": "python",
   "nbconvert_exporter": "python",
   "pygments_lexer": "ipython3",
   "version": "3.8.8"
  }
 },
 "nbformat": 4,
 "nbformat_minor": 5
}
