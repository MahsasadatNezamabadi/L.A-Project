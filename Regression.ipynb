{
 "cells": [
  {
   "cell_type": "markdown",
   "id": "305b107c",
   "metadata": {},
   "source": [
    "We used this notebook to try out the regression model. We tried different things, such as a linear regression, logistic regression and also different steps for the graduation rate/ put the school in discrete classes. All models were evaluate with the sklearn intern score, where 1 is the best possible score. Nothing reached a good enough score (between -0.01 - 0.04).\n",
    "\n",
    "After this we decided to change to a classification model, for more information see the notebook classification."
   ]
  },
  {
   "cell_type": "code",
   "execution_count": null,
   "id": "70e3b8d2",
   "metadata": {},
   "outputs": [],
   "source": [
    "import pandas as pd\n",
    "\n",
    "from sklearn.linear_model import LinearRegression\n",
    "from sklearn.model_selection import train_test_split\n",
    "from sklearn.linear_model import LogisticRegression\n",
    "from sklearn import preprocessing"
   ]
  },
  {
   "cell_type": "code",
   "execution_count": 215,
   "id": "774fe412",
   "metadata": {},
   "outputs": [],
   "source": [
    "#get a custom round function\n",
    "def custom_round(x, base=0.05):\n",
    "    return base*round(x/base)\n",
    "\n",
    "#put the schools in one of 4 categories depending on the graduation rate\n",
    "def get_qualSchool(df, col=\"qual_school\"):\n",
    "    maxGrad=data.groupby(\"qual_school\").max().reset_index()\n",
    "    maxGrad=maxGrad[[\"qual_school\",\"avg_grad_round\"]]\n",
    "    max0=maxGrad[\"avg_grad_round\"][0]\n",
    "    max1=maxGrad[\"avg_grad_round\"][1]\n",
    "    max2=maxGrad[\"avg_grad_round\"][2]\n",
    "    max3=maxGrad[\"avg_grad_round\"][3]\n",
    "    df.loc[df[\"avg_grad_round\"]<=max0,\"qual_school\"]=0\n",
    "    df.loc[((df[\"avg_grad_round\"]>max0) &(df[\"avg_grad_round\"]<=max1)) ,\"qual_school\"]=1\n",
    "    df.loc[((df[\"avg_grad_round\"]>max1) &(df[\"avg_grad_round\"]<=max2)) ,\"qual_school\"]=2\n",
    "    df.loc[((df[\"avg_grad_round\"]>max2) &(df[\"avg_grad_round\"]<=max3)) ,\"qual_school\"]=3\n",
    "    df.loc[df[\"avg_grad_round\"]>max3,\"qual_school\"]=4\n",
    "    return df\n",
    "    "
   ]
  },
  {
   "cell_type": "code",
   "execution_count": 233,
   "id": "4d817d27",
   "metadata": {
    "scrolled": true
   },
   "outputs": [],
   "source": [
    "#prepare the dataset for the analysis\n",
    "dataPrep=pd.read_csv(\"datasets/dataForML.csv\")\n",
    "data=pd.read_csv(\"datasets/dataForMLScatter.csv\")\n",
    "\n",
    "dataPrep[\"total_grads_of_cohort\"]=dataPrep[\"total_grads_of_cohort\"]/100\n",
    "df_mean=dataPrep.groupby(\"dbn\").mean()\n",
    "df_mean=df_mean.reset_index()\n",
    "df_mean[\"avg_grad_round\"]=df_mean[\"total_grads_of_cohort\"].apply(lambda x: custom_round(x))\n",
    "df_mean=df_mean[[\"dbn\",\"avg_grad_round\"]]\n",
    "\n",
    "stdGrad=dataPrep.groupby(\"dbn\").std()\n",
    "stdGrad=stdGrad.reset_index()\n",
    "stdGrad=stdGrad[[\"dbn\",\"total_grads_of_cohort\"]]\n",
    "stdGrad=stdGrad.rename(columns={\"total_grads_of_cohort\":\"std_Grads\"})\n",
    "stdGrad[\"std_Grads_round\"]=stdGrad[\"std_Grads\"].apply(lambda x: custom_round(x))\n",
    "data=data.merge(stdGrad, on=\"dbn\",how=\"left\")\n",
    "data=data.merge(df_mean, on=\"dbn\",how=\"left\")\n",
    "data=data.dropna(subset=[\"trees\",\"crashes\",\"pc\",\"shootings\",\"arrests\",\"programs\",\"bins\",\"avg_perc Grads\",\"std_Grads\"])\n",
    "data=data.sort_values(by=[\"avg_grad_round\"])\n",
    "data=data.reset_index()\n",
    "data[\"qual_school\"]=0\n",
    "class_width=data.shape[0]//5\n",
    "class_width\n",
    "data.loc[class_width:2*class_width,\"qual_school\"]=1\n",
    "data.loc[class_width*2:3*class_width,\"qual_school\"]=2\n",
    "data.loc[class_width*3:4*class_width,\"qual_school\"]=3\n",
    "data.loc[class_width*4:,\"qual_school\"]=4\n"
   ]
  },
  {
   "cell_type": "code",
   "execution_count": 234,
   "id": "16d07105",
   "metadata": {},
   "outputs": [],
   "source": [
    "#create test & train set\n",
    "\n",
    "X=data[[\"trees\",\"crashes\",\"pc\",\"shootings\",\"arrests\",\"programs\",\"bins\"]]\n",
    "\n",
    "y_=data[[\"avg_grad_round\",\"std_Grads_round\"]]\n",
    "y=data[ \"qual_school\"]\n",
    "\n",
    "X_train,X_test,y_train,y_test=train_test_split(X,y,test_size=0.1, stratify=y, random_state=42)\n",
    "\n",
    "y_train=pd.DataFrame(y_train)\n",
    "y_train=y_train.join(y_)\n",
    "y_train=y_train.drop(columns=[\"qual_school\"])\n",
    "\n",
    "y_test=pd.DataFrame(y_test)\n",
    "y_test=y_test.join(y_)\n",
    "y_test=y_test.drop(columns=[\"qual_school\"])\n"
   ]
  },
  {
   "cell_type": "code",
   "execution_count": 235,
   "id": "7c1619b3",
   "metadata": {},
   "outputs": [],
   "source": [
    "#fit the regression model\n",
    "reg=LinearRegression().fit(X_train,y_train)"
   ]
  },
  {
   "cell_type": "code",
   "execution_count": 236,
   "id": "c93f3a05",
   "metadata": {},
   "outputs": [],
   "source": [
    "#get the predicition of the test set\n",
    "y_hat = reg.predict(X_test)"
   ]
  },
  {
   "cell_type": "code",
   "execution_count": 240,
   "id": "7dbfda3c",
   "metadata": {
    "scrolled": true
   },
   "outputs": [],
   "source": [
    "#transform the labels of the train set into discrete classes\n",
    "dfy_hat=pd.DataFrame(y_hat,columns=[\"avg_grad_round\",\"std_Grad_round\"])\n",
    "dfy_hat[\"qual_school\"]=0\n",
    "dfy_hat=get_qualSchool(df_yhat)\n",
    "dfy_hat\n",
    "y_test_=y_test\n",
    "y_test_[\"qual_school\"]=0\n",
    "y_test_=get_qualSchool(y_test_)\n",
    "y_test_=y_test_.reset_index()\n",
    "df_res=dfy_hat-y_test_\n",
    "\n"
   ]
  },
  {
   "cell_type": "code",
   "execution_count": 242,
   "id": "b490a26d",
   "metadata": {},
   "outputs": [
    {
     "data": {
      "text/plain": [
       "<AxesSubplot:ylabel='Frequency'>"
      ]
     },
     "execution_count": 242,
     "metadata": {},
     "output_type": "execute_result"
    },
    {
     "data": {
      "image/png": "[encoded data removed]",
      "text/plain": [
       "<Figure size 432x288 with 1 Axes>"
      ]
     },
     "metadata": {
      "needs_background": "light"
     },
     "output_type": "display_data"
    }
   ],
   "source": [
    "#see the frequency\n",
    "df_res[\"qual_school\"].plot.hist()"
   ]
  },
  {
   "cell_type": "code",
   "execution_count": 196,
   "id": "d31b3622",
   "metadata": {
    "scrolled": true
   },
   "outputs": [
    {
     "data": {
      "text/plain": [
       "0.08720800031411174"
      ]
     },
     "execution_count": 196,
     "metadata": {},
     "output_type": "execute_result"
    }
   ],
   "source": [
    "reg.score(X_test,y_test)"
   ]
  },
  {
   "cell_type": "code",
   "execution_count": 197,
   "id": "7f7ce234",
   "metadata": {},
   "outputs": [],
   "source": [
    "y_avg_hat=[x[0] for x in y_hat]\n",
    "y_avg_test=y_test[\"avg_grad_round\"].to_list()\n",
    "#y_avg_hat=[custom_round(x) for x in y_avg_hat]"
   ]
  },
  {
   "cell_type": "code",
   "execution_count": 198,
   "id": "bf83e88d",
   "metadata": {},
   "outputs": [],
   "source": [
    "y_std_hat=[x[0] for x in y_hat]\n",
    "y_std_test=y_test[\"std_Grads_round\"].to_list()\n",
    "#y_std_hat=[custom_round(x) for x in y_std_hat]"
   ]
  },
  {
   "cell_type": "code",
   "execution_count": 199,
   "id": "60c89530",
   "metadata": {},
   "outputs": [
    {
     "data": {
      "text/plain": [
       "<matplotlib.collections.PathCollection at 0x7f97718f73d0>"
      ]
     },
     "execution_count": 199,
     "metadata": {},
     "output_type": "execute_result"
    },
    {
     "data": {
      "image/png": "[encoded data removed]",
      "text/plain": [
       "<Figure size 432x288 with 1 Axes>"
      ]
     },
     "metadata": {
      "needs_background": "light"
     },
     "output_type": "display_data"
    }
   ],
   "source": [
    "import matplotlib.pyplot as plt\n",
    "plt.scatter(y_avg_hat, y_avg_test)"
   ]
  },
  {
   "cell_type": "code",
   "execution_count": 200,
   "id": "c3012ba1",
   "metadata": {},
   "outputs": [
    {
     "data": {
      "text/plain": [
       "<matplotlib.collections.PathCollection at 0x7f97698f4bb0>"
      ]
     },
     "execution_count": 200,
     "metadata": {},
     "output_type": "execute_result"
    },
    {
     "data": {
      "image/png": "[encoded data removed]",
      "text/plain": [
       "<Figure size 432x288 with 1 Axes>"
      ]
     },
     "metadata": {
      "needs_background": "light"
     },
     "output_type": "display_data"
    }
   ],
   "source": [
    "import matplotlib.pyplot as plt\n",
    "plt.scatter(y_std_hat, y_std_test)"
   ]
  },
  {
   "cell_type": "code",
   "execution_count": 128,
   "id": "2b6041a7",
   "metadata": {},
   "outputs": [
    {
     "data": {
      "text/plain": [
       "(43, 2)"
      ]
     },
     "execution_count": 128,
     "metadata": {},
     "output_type": "execute_result"
    }
   ],
   "source": [
    "y_hat.shape"
   ]
  },
  {
   "cell_type": "code",
   "execution_count": 75,
   "id": "884f4ac4",
   "metadata": {},
   "outputs": [
    {
     "data": {
      "text/plain": [
       "array([[-0.18542258,  0.50102911,  0.97925036, -2.98479894,  1.11940541,\n",
       "        -2.03651117, -0.82375095],\n",
       "       [ 0.19762734,  0.53370411, -0.46284065,  1.68473302, -0.75201556,\n",
       "         0.39829279, -0.1116287 ]])"
      ]
     },
     "execution_count": 75,
     "metadata": {},
     "output_type": "execute_result"
    }
   ],
   "source": [
    "reg.coef_"
   ]
  },
  {
   "cell_type": "code",
   "execution_count": 65,
   "id": "3edc77cb",
   "metadata": {},
   "outputs": [
    {
     "data": {
      "text/plain": [
       "Unnamed: 0         0\n",
       "Unnamed: 0.1       0\n",
       "dbn                0\n",
       "school_name        0\n",
       "borough            0\n",
       "latitude           1\n",
       "longitude          1\n",
       "location           0\n",
       "avg_perc Grads    14\n",
       "latitude_rad       1\n",
       "longitude_rad      1\n",
       "trees              0\n",
       "crashes            0\n",
       "pc                 0\n",
       "shootings          0\n",
       "arrests            0\n",
       "programs           0\n",
       "bins               0\n",
       "std_Grads         14\n",
       "dtype: int64"
      ]
     },
     "execution_count": 65,
     "metadata": {},
     "output_type": "execute_result"
    }
   ],
   "source": [
    "data.isna().sum()"
   ]
  },
  {
   "cell_type": "code",
   "execution_count": null,
   "id": "3455ed81",
   "metadata": {},
   "outputs": [],
   "source": []
  }
 ],
 "metadata": {
  "kernelspec": {
   "display_name": "Python 3 (ipykernel)",
   "language": "python",
   "name": "python3"
  },
  "language_info": {
   "codemirror_mode": {
    "name": "ipython",
    "version": 3
   },
   "file_extension": ".py",
   "mimetype": "text/x-python",
   "name": "python",
   "nbconvert_exporter": "python",
   "pygments_lexer": "ipython3",
   "version": "3.8.8"
  }
 },
 "nbformat": 4,
 "nbformat_minor": 5
}
