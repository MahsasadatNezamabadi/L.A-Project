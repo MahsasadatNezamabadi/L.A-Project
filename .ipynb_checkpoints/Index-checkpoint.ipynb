{
 "cells": [
  {
   "cell_type": "code",
   "execution_count": 1,
   "id": "d5a008da",
   "metadata": {},
   "outputs": [
    {
     "ename": "SyntaxError",
     "evalue": "invalid syntax (3265824519.py, line 12)",
     "output_type": "error",
     "traceback": [
      "\u001b[0;36m  Input \u001b[0;32mIn [1]\u001b[0;36m\u001b[0m\n\u001b[0;31m    from apps import get prediction, overview      #we need to implement Overview and get prediction page\u001b[0m\n\u001b[0m                         ^\u001b[0m\n\u001b[0;31mSyntaxError\u001b[0m\u001b[0;31m:\u001b[0m invalid syntax\n"
     ]
    }
   ],
   "source": [
    "import dash_core_components as dcc\n",
    "import dash_html_components as html\n",
    "from dash.dependencies import Input, Output\n",
    "\n",
    "# Connect to main app.py file\n",
    "from app import app\n",
    "\n",
    "#to open server in the web\n",
    "from app import server\n",
    "\n",
    "# Connect to your app pages\n",
    "from apps import get_prediction, overview      #we need to implement Overview and get prediction page\n",
    "\n",
    "\n",
    "app.layout = html.Div([\n",
    "    dcc.Location(id='url', refresh=False),\n",
    "    html.Div([\n",
    "        dcc.Link('Overview   |', href='/apps/get prediction'),         #both  href needs to get change to NYC pages\n",
    "        dcc.Link('   Get prediction', href='/apps/overview'),\n",
    "    ], className=\"row\"),      #row to do implement menu in the same row\n",
    "    html.Div(id='page-content', children=[])\n",
    "])\n",
    "\n",
    "\n",
    "@app.callback(Output('page-content', 'children'),\n",
    "              [Input('url', 'pathname')])\n",
    "def display_page(pathname):\n",
    "    if pathname == '/apps/get prediction':      #needs to get changed\n",
    "        return get prediction.layout\n",
    "    if pathname == '/apps/overview':     #needs to get changed\n",
    "        return overview.layout\n",
    "    else:\n",
    "        return \"404 Page Error! Please choose a link\"\n",
    "\n",
    "\n",
    "if __name__ == '__main__':\n",
    "    app.run_server(debug=False)"
   ]
  },
  {
   "cell_type": "code",
   "execution_count": null,
   "id": "28fef183",
   "metadata": {},
   "outputs": [],
   "source": []
  }
 ],
 "metadata": {
  "kernelspec": {
   "display_name": "Python 3 (ipykernel)",
   "language": "python",
   "name": "python3"
  },
  "language_info": {
   "codemirror_mode": {
    "name": "ipython",
    "version": 3
   },
   "file_extension": ".py",
   "mimetype": "text/x-python",
   "name": "python",
   "nbconvert_exporter": "python",
   "pygments_lexer": "ipython3",
   "version": "3.8.8"
  }
 },
 "nbformat": 4,
 "nbformat_minor": 5
}
