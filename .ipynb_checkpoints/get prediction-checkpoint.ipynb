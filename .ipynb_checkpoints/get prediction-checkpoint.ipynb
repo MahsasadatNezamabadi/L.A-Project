{
 "cells": [
  {
   "cell_type": "code",
   "execution_count": 2,
   "id": "ffa9b257",
   "metadata": {},
   "outputs": [
    {
     "ename": "ModuleNotFoundError",
     "evalue": "No module named 'app'",
     "output_type": "error",
     "traceback": [
      "\u001b[0;31m---------------------------------------------------------------------------\u001b[0m",
      "\u001b[0;31mModuleNotFoundError\u001b[0m                       Traceback (most recent call last)",
      "Input \u001b[0;32mIn [2]\u001b[0m, in \u001b[0;36m<module>\u001b[0;34m\u001b[0m\n\u001b[1;32m      5\u001b[0m \u001b[38;5;28;01mimport\u001b[39;00m \u001b[38;5;21;01mpandas\u001b[39;00m \u001b[38;5;28;01mas\u001b[39;00m \u001b[38;5;21;01mpd\u001b[39;00m\n\u001b[1;32m      6\u001b[0m \u001b[38;5;28;01mimport\u001b[39;00m \u001b[38;5;21;01mpathlib\u001b[39;00m\n\u001b[0;32m----> 7\u001b[0m \u001b[38;5;28;01mfrom\u001b[39;00m \u001b[38;5;21;01mapp\u001b[39;00m \u001b[38;5;28;01mimport\u001b[39;00m app\n",
      "\u001b[0;31mModuleNotFoundError\u001b[0m: No module named 'app'"
     ]
    }
   ],
   "source": [
    "from dash import dcc\n",
    "from dash import html\n",
    "from dash.dependencies import Input, Output\n",
    "import plotly.express as px\n",
    "import pandas as pd\n",
    "import pathlib\n",
    "from app import app"
   ]
  },
  {
   "cell_type": "code",
   "execution_count": null,
   "id": "bd2a042f",
   "metadata": {},
   "outputs": [],
   "source": [
    "# get relative data folder\n",
    "PATH = pathlib.Path(__file__).parent\n",
    "DATA_PATH = PATH.joinpath(\"../datasets\").resolve()\n",
    "\n",
    "dfv = pd.read_csv(DATA_PATH.joinpath(\"vgsales.csv\"))  #other csv must be implemented !!!!!!!!!!!!!!!1\n",
    "sales_list = [\"North American Sales\", \"EU Sales\", \"Japan Sales\", \"Other Sales\",\t\"World Sales\"]  #change !!!!!!!!\n",
    "\n",
    "\n",
    "layout = html.Div([\n",
    "    html.H1('Video Games Sales', style={\"textAlign\": \"center\"}), #change Video Game Sales !!!!!!!!\n",
    "\n",
    "    html.Div([\n",
    "        html.Div(dcc.Dropdown(\n",
    "            id='genre-dropdown', value='Strategy', clearable=False,\n",
    "            options=[{'label': x, 'value': x} for x in sorted(dfv.Genre.unique())]\n",
    "        ), className='six columns'),\n",
    "\n",
    "        html.Div(dcc.Dropdown(\n",
    "            id='sales-dropdown', value='EU Sales', clearable=False, #change !!!!!!\n",
    "            persistence=True, persistence_type='memory',\n",
    "            options=[{'label': x, 'value': x} for x in sales_list]\n",
    "        ), className='six columns'),\n",
    "    ], className='row'),\n",
    "\n",
    "    dcc.Graph(id='my-bar', figure={}),\n",
    "])\n",
    "\n",
    "\n",
    "@app.callback(\n",
    "    Output(component_id='my-bar', component_property='figure'),\n",
    "    [Input(component_id='genre-dropdown', component_property='value'),\n",
    "     Input(component_id='sales-dropdown', component_property='value')]\n",
    ")\n",
    "def display_value(genre_chosen, sales_chosen):\n",
    "    dfv_fltrd = dfv[dfv['Genre'] == genre_chosen]\n",
    "    dfv_fltrd = dfv_fltrd.nlargest(10, sales_chosen)\n",
    "    fig = px.bar(dfv_fltrd, x='Video Game', y=sales_chosen, color='Platform')\n",
    "    fig = fig.update_yaxes(tickprefix=\"$\", ticksuffix=\"M\")\n",
    "    return fig"
   ]
  }
 ],
 "metadata": {
  "kernelspec": {
   "display_name": "Python 3 (ipykernel)",
   "language": "python",
   "name": "python3"
  },
  "language_info": {
   "codemirror_mode": {
    "name": "ipython",
    "version": 3
   },
   "file_extension": ".py",
   "mimetype": "text/x-python",
   "name": "python",
   "nbconvert_exporter": "python",
   "pygments_lexer": "ipython3",
   "version": "3.8.8"
  }
 },
 "nbformat": 4,
 "nbformat_minor": 5
}
